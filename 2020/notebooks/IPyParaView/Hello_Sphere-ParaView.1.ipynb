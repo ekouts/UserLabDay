{
 "cells": [
  {
   "cell_type": "markdown",
   "metadata": {},
   "source": [
    "# ParaView Hello Sphere Test\n",
    "This notebook creates a synthetic data source (a sphere), and creates a polygonal display of it.\n",
    "Then, it creates a ParaView display widget showing the primary render view.\n",
    "The notebook further demonstrates how we may use interaction widgets (sliders), to change the resolution of the sphere."
   ]
  },
  {
   "cell_type": "code",
   "execution_count": 1,
   "metadata": {},
   "outputs": [],
   "source": [
    "from paraview.simple import *"
   ]
  },
  {
   "cell_type": "code",
   "execution_count": 2,
   "metadata": {},
   "outputs": [
    {
     "name": "stdout",
     "output_type": "stream",
     "text": [
      "ParaView Version  5.8\n",
      "Vendor:   NVIDIA Corporation\n",
      "Version:  4.6.0 NVIDIA 440.100\n",
      "Renderer: GeForce RTX 2060/PCIe/SSE2\n"
     ]
    }
   ],
   "source": [
    "Version = str(GetParaViewVersion())\n",
    "info = GetOpenGLInformation(location=servermanager.vtkSMSession.RENDER_SERVER)\n",
    "\n",
    "print(\"ParaView Version \", Version)\n",
    "print(\"Vendor:   %s\" % info.GetVendor())\n",
    "print(\"Version:  %s\" % info.GetVersion())\n",
    "print(\"Renderer: %s\" % info.GetRenderer())"
   ]
  },
  {
   "cell_type": "code",
   "execution_count": 3,
   "metadata": {},
   "outputs": [],
   "source": [
    "sphere = Sphere(ThetaResolution=32, PhiResolution=32)\n",
    "\n",
    "rep = Show(sphere, GetActiveView())\n",
    "rep.Representation='Surface With Edges'"
   ]
  },
  {
   "cell_type": "code",
   "execution_count": 4,
   "metadata": {},
   "outputs": [
    {
     "data": {
      "application/vnd.jupyter.widget-view+json": {
       "model_id": "9b2be327185c4bf7a467e1462fe80584",
       "version_major": 2,
       "version_minor": 0
      },
      "text/plain": [
       "PVDisplay(resolution=(400, 400))"
      ]
     },
     "metadata": {},
     "output_type": "display_data"
    }
   ],
   "source": [
    "from ipyparaview.widgets import PVDisplay\n",
    "disp = PVDisplay(GetActiveView())\n",
    "w = display(disp)"
   ]
  },
  {
   "cell_type": "code",
   "execution_count": 5,
   "metadata": {},
   "outputs": [
    {
     "data": {
      "application/vnd.jupyter.widget-view+json": {
       "model_id": "efe9e0472204422c8cfd3f083b6dc739",
       "version_major": 2,
       "version_minor": 0
      },
      "text/plain": [
       "interactive(children=(IntSlider(value=12, description='res', max=48, min=3), Output()), _dom_classes=('widget-…"
      ]
     },
     "metadata": {},
     "output_type": "display_data"
    }
   ],
   "source": [
    "# Interact from ipywidgets gives us a simple way to interactively control values\n",
    "# with a callback function\n",
    "from ipywidgets import interact, IntSlider\n",
    "\n",
    "# set the Theta and Phi resolution and trigger a pipeline update\n",
    "def Sphere_resolution(res):\n",
    "    sphere.ThetaResolution = sphere.PhiResolution = res\n",
    "    sphere.UpdatePipeline()\n",
    "    \n",
    "i = interact(Sphere_resolution, res=IntSlider(min=3, max=48, step=1, value=12))"
   ]
  },
  {
   "cell_type": "code",
   "execution_count": 6,
   "metadata": {},
   "outputs": [],
   "source": [
    "def SaveImage(filename):\n",
    "  from vtk import vtkPNGWriter\n",
    "  img_writer = vtkPNGWriter()\n",
    "  img_writer.SetInputConnection(disp.w2i.GetOutputPort())\n",
    "  img_writer.SetFileName(filename)\n",
    "  img_writer.Write()\n",
    "\n",
    "SaveImage(\"/home/jfavre/foo2.png\")"
   ]
  }
 ],
 "metadata": {
  "kernelspec": {
   "display_name": "Python 3",
   "language": "python",
   "name": "python3"
  },
  "language_info": {
   "codemirror_mode": {
    "name": "ipython",
    "version": 3
   },
   "file_extension": ".py",
   "mimetype": "text/x-python",
   "name": "python",
   "nbconvert_exporter": "python",
   "pygments_lexer": "ipython3",
   "version": "3.8.2"
  }
 },
 "nbformat": 4,
 "nbformat_minor": 4
}
