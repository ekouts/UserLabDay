{
 "cells": [
  {
   "cell_type": "markdown",
   "metadata": {},
   "source": [
    "# ParaView Hello Sphere Test\n",
    "This notebook can connect to a parallel set of ParaView servers running on the allocated compute node.\n",
    "It creates a synthetic data source (a sphere), and creates a polygonal display of it. Then, it creates a ParaView display widget showing the primary render view. The notebook further demonstrates how we may use interaction widgets (sliders), to change the resolution of the sphere."
   ]
  },
  {
   "cell_type": "code",
   "execution_count": 1,
   "metadata": {},
   "outputs": [],
   "source": [
    "from paraview.simple import *\n",
    "from paraview.modules.vtkRemotingCore import vtkProcessModule"
   ]
  },
  {
   "cell_type": "code",
   "execution_count": 2,
   "metadata": {},
   "outputs": [
    {
     "data": {
      "text/plain": [
       "Connection (cs://localhost:11111) [2]"
      ]
     },
     "execution_count": 2,
     "metadata": {},
     "output_type": "execute_result"
    }
   ],
   "source": [
    "# to run in parallel on-the-allocated node, one would issue an srun command\n",
    "# at the terminal:\n",
    "# module load ParaView/5.8.0-CrayGNU-19.10-EGL\n",
    "# srun -n 8 `which pvserver`\n",
    "# followed by a Connect() command\n",
    "\n",
    "Connect(\"localhost\")"
   ]
  },
  {
   "cell_type": "code",
   "execution_count": 3,
   "metadata": {},
   "outputs": [
    {
     "name": "stdout",
     "output_type": "stream",
     "text": [
      "nbprocs=  8\n"
     ]
    }
   ],
   "source": [
    "rank = vtkProcessModule.GetProcessModule().GetPartitionId()\n",
    "nbprocs = servermanager.ActiveConnection.GetNumberOfDataPartitions()\n",
    "info = GetOpenGLInformation(location=servermanager.vtkSMSession.RENDER_SERVER)\n",
    "print(\"nbprocs= \",nbprocs)"
   ]
  },
  {
   "cell_type": "code",
   "execution_count": 4,
   "metadata": {},
   "outputs": [
    {
     "name": "stdout",
     "output_type": "stream",
     "text": [
      "ParaView Version  5.8\n",
      "rank= 0 / 8\n",
      "Vendor:   NVIDIA Corporation\n",
      "Version:  4.6.0 NVIDIA 418.39\n",
      "Renderer: Tesla P100-PCIE-16GB/PCIe/SSE2\n"
     ]
    }
   ],
   "source": [
    "Version = str(GetParaViewVersion())\n",
    "if rank == 0:\n",
    "    print(\"ParaView Version \", Version)\n",
    "    print(\"rank=\", rank, \"/\", nbprocs)\n",
    "    print(\"Vendor:   %s\" % info.GetVendor())\n",
    "    print(\"Version:  %s\" % info.GetVersion())\n",
    "    print(\"Renderer: %s\" % info.GetRenderer())"
   ]
  },
  {
   "cell_type": "code",
   "execution_count": 5,
   "metadata": {},
   "outputs": [],
   "source": [
    "sphere = Sphere(ThetaResolution=32, PhiResolution=32)\n",
    "\n",
    "pidscal = ProcessIdScalars(sphere)\n",
    "\n",
    "rep = Show(pidscal, GetActiveView())\n",
    "ColorBy(rep, 'ProcessId')\n",
    "processIdLUT = GetColorTransferFunction('ProcessId')\n",
    "processIdLUT.AnnotationsInitialized = 1\n",
    "processIdLUT.InterpretValuesAsCategories = 1\n",
    "\n",
    "IndexedColors = [\n",
    "    1.0, 1.0, 1.0,\n",
    "    1.0, 0.0, 0.0,\n",
    "    0.0, 1.0, 0.0,\n",
    "    0.0, 0.0, 1.0,\n",
    "    1.0, 1.0, 0.0,\n",
    "    1.0, 0.0, 1.0,\n",
    "    0.0, 1.0, 1.0,\n",
    "    0.63, 0.63, 1.0,\n",
    "    0.67, 0.5, 0.33,\n",
    "    1.0, 0.5, 0.75,\n",
    "    0.53, 0.35, 0.7,\n",
    "    1.0, 0.75, 0.5]\n",
    "\n",
    "a = []\n",
    "for i in range(nbprocs):\n",
    "    a.extend((str(i), str(i)))\n",
    "\n",
    "processIdLUT.Annotations = a\n",
    "processIdLUT.IndexedColors = IndexedColors\n",
    "rep.Representation = \"Surface With Edges\""
   ]
  },
  {
   "cell_type": "code",
   "execution_count": 6,
   "metadata": {},
   "outputs": [
    {
     "data": {
      "application/vnd.jupyter.widget-view+json": {
       "model_id": "b6948c28804746c7a168d1cd319f7373",
       "version_major": 2,
       "version_minor": 0
      },
      "text/plain": [
       "PVDisplay(resolution=(400, 400))"
      ]
     },
     "metadata": {},
     "output_type": "display_data"
    }
   ],
   "source": [
    "from ipyparaview.widgets import PVDisplay\n",
    "disp = PVDisplay(GetActiveView())\n",
    "w = display(disp)"
   ]
  },
  {
   "cell_type": "code",
   "execution_count": 8,
   "metadata": {},
   "outputs": [
    {
     "data": {
      "application/vnd.jupyter.widget-view+json": {
       "model_id": "ed68f634292a47aa8f887c6efa93b073",
       "version_major": 2,
       "version_minor": 0
      },
      "text/plain": [
       "interactive(children=(IntSlider(value=12, description='res', max=48, min=3), Output()), _dom_classes=('widget-…"
      ]
     },
     "metadata": {},
     "output_type": "display_data"
    },
    {
     "data": {
      "text/plain": [
       "None"
      ]
     },
     "metadata": {},
     "output_type": "display_data"
    }
   ],
   "source": [
    "# Interact from ipywidgets offers us a simple way to interactively control values with a callback function\n",
    "from ipywidgets import interact, IntSlider\n",
    "\n",
    "# sets the Theta and Phi resolution values, triggers a pipeline update, and renders the result\n",
    "def Sphere_resolution(res):\n",
    "    sphere.ThetaResolution = sphere.PhiResolution = res\n",
    "    sphere.UpdatePipeline()\n",
    "    \n",
    "interact(Sphere_resolution, res=IntSlider(min=3, max=48, step=1, value=12))\n",
    "display(w)"
   ]
  },
  {
   "cell_type": "markdown",
   "metadata": {},
   "source": [
    "We can cleanly close the connection with the following command"
   ]
  },
  {
   "cell_type": "code",
   "execution_count": 12,
   "metadata": {},
   "outputs": [],
   "source": [
    "Disconnect()"
   ]
  },
  {
   "cell_type": "code",
   "execution_count": null,
   "metadata": {},
   "outputs": [],
   "source": []
  },
  {
   "cell_type": "code",
   "execution_count": null,
   "metadata": {},
   "outputs": [],
   "source": []
  },
  {
   "cell_type": "code",
   "execution_count": null,
   "metadata": {},
   "outputs": [],
   "source": []
  }
 ],
 "metadata": {
  "kernelspec": {
   "display_name": "Python 3",
   "language": "python",
   "name": "python3"
  },
  "language_info": {
   "codemirror_mode": {
    "name": "ipython",
    "version": 3
   },
   "file_extension": ".py",
   "mimetype": "text/x-python",
   "name": "python",
   "nbconvert_exporter": "python",
   "pygments_lexer": "ipython3",
   "version": "3.6.5"
  }
 },
 "nbformat": 4,
 "nbformat_minor": 4
}
