{
 "cells": [
  {
   "cell_type": "code",
   "execution_count": 1,
   "metadata": {},
   "outputs": [],
   "source": [
    "from paraview.simple import *\n",
    "import numpy as np"
   ]
  },
  {
   "cell_type": "markdown",
   "metadata": {},
   "source": [
    "Make numpy arrays"
   ]
  },
  {
   "cell_type": "code",
   "execution_count": 2,
   "metadata": {},
   "outputs": [],
   "source": [
    "dims = [150, 150, 150]\n",
    "#np_data = np.random.rand(np.prod(dims))\n",
    "xaxis = np.linspace(-.5, 1., dims[0])\n",
    "yaxis = np.linspace(-1.,1.,  dims[1])\n",
    "zaxis = np.linspace(-1., .5, dims[2])\n",
    "[xc,yc,zc] = np.meshgrid(zaxis,yaxis,xaxis, indexing=\"ij\")\n",
    "np_data = np.sqrt(xc**2 + yc**2 + zc**2, dtype='f')\n",
    "del xc, yc, zc\n",
    "# an array of global ids\n",
    "ids = np.reshape(range(np.prod(dims)), dims)"
   ]
  },
  {
   "cell_type": "markdown",
   "metadata": {},
   "source": [
    "Make a vtkImageData"
   ]
  },
  {
   "cell_type": "code",
   "execution_count": 3,
   "metadata": {},
   "outputs": [
    {
     "data": {
      "text/plain": [
       "1"
      ]
     },
     "execution_count": 3,
     "metadata": {},
     "output_type": "execute_result"
    }
   ],
   "source": [
    "from vtk import vtkImageData\n",
    "from paraview import numpy_support\n",
    "\n",
    "ImageData = vtkImageData()\n",
    "ImageData.SetExtent(0, dims[0]-1, 0, dims[1]-1, 0, dims[2]-1)\n",
    "\n",
    "vtk_data0 = numpy_support.numpy_to_vtk(np_data.ravel())\n",
    "vtk_data0.SetName(\"scalarA\")\n",
    "ImageData.GetPointData().AddArray(vtk_data0)\n",
    "\n",
    "vtk_data1 = numpy_support.numpy_to_vtk(ids.ravel())\n",
    "vtk_data1.SetName(\"GlobalNodeIds\")\n",
    "ImageData.GetPointData().AddArray(vtk_data1)\n",
    "ImageData.GetPointData().SetActiveGlobalIds(\"GlobalNodeIds\")"
   ]
  },
  {
   "cell_type": "markdown",
   "metadata": {},
   "source": [
    "Make a ParaView object holding the vtkImageData"
   ]
  },
  {
   "cell_type": "code",
   "execution_count": 4,
   "metadata": {},
   "outputs": [],
   "source": [
    "trivialproducer = PVTrivialProducer()\n",
    "obj = trivialproducer.GetClientSideObject()\n",
    "obj.SetOutput(ImageData)"
   ]
  },
  {
   "cell_type": "code",
   "execution_count": 5,
   "metadata": {},
   "outputs": [],
   "source": [
    "rep = Show(trivialproducer)\n",
    "ColorBy(rep, (\"POINTS\", \"scalarA\"))\n",
    "rep.Representation= \"Surface\""
   ]
  },
  {
   "cell_type": "code",
   "execution_count": 6,
   "metadata": {},
   "outputs": [
    {
     "data": {
      "application/vnd.jupyter.widget-view+json": {
       "model_id": "fb42dcac79c64deba8e9113928d740bb",
       "version_major": 2,
       "version_minor": 0
      },
      "text/plain": [
       "PVDisplay(resolution=(400, 400))"
      ]
     },
     "metadata": {},
     "output_type": "display_data"
    }
   ],
   "source": [
    "from ipyparaview.widgets import PVDisplay\n",
    "disp = PVDisplay(GetActiveView())\n",
    "w = display(disp)"
   ]
  },
  {
   "cell_type": "code",
   "execution_count": null,
   "metadata": {},
   "outputs": [],
   "source": []
  },
  {
   "cell_type": "code",
   "execution_count": null,
   "metadata": {},
   "outputs": [],
   "source": []
  }
 ],
 "metadata": {
  "kernelspec": {
   "display_name": "Python 3",
   "language": "python",
   "name": "python3"
  },
  "language_info": {
   "codemirror_mode": {
    "name": "ipython",
    "version": 3
   },
   "file_extension": ".py",
   "mimetype": "text/x-python",
   "name": "python",
   "nbconvert_exporter": "python",
   "pygments_lexer": "ipython3",
   "version": "3.8.2"
  }
 },
 "nbformat": 4,
 "nbformat_minor": 4
}
