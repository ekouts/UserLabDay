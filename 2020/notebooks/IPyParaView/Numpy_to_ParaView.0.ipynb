{
 "cells": [
  {
   "cell_type": "code",
   "execution_count": null,
   "metadata": {},
   "outputs": [],
   "source": [
    "from paraview.simple import *\n",
    "import numpy as np"
   ]
  },
  {
   "cell_type": "markdown",
   "metadata": {},
   "source": [
    "Make numpy arrays"
   ]
  },
  {
   "cell_type": "code",
   "execution_count": null,
   "metadata": {},
   "outputs": [],
   "source": [
    "dims = [150, 150, 150]\n",
    "np_data = np.random.rand(np.prod(dims))"
   ]
  },
  {
   "cell_type": "markdown",
   "metadata": {},
   "source": [
    "Make a vtkImageData"
   ]
  },
  {
   "cell_type": "code",
   "execution_count": null,
   "metadata": {},
   "outputs": [],
   "source": [
    "from vtk import vtkImageData\n",
    "from paraview import numpy_support\n",
    "\n",
    "ImageData = vtkImageData()\n",
    "ImageData.SetDimensions(dims)\n",
    "\n",
    "vtk_data = numpy_support.numpy_to_vtk(np_data)\n",
    "vtk_data.SetName(\"scalarA\")\n",
    "ImageData.GetPointData().AddArray(vtk_data)"
    "ImageData.GetPointData().setScalars(vtk_data)"
   ]
  },
  {
   "cell_type": "markdown",
   "metadata": {},
   "source": [
    "Make a ParaView object holding the vtkImageData"
   ]
  },
  {
   "cell_type": "code",
   "execution_count": null,
   "metadata": {},
   "outputs": [],
   "source": [
    "trivialproducer = PVTrivialProducer()\n",
    "obj = trivialproducer.GetClientSideObject()\n",
    "obj.SetOutput(ImageData)"
   ]
  },
  {
   "cell_type": "code",
   "execution_count": null,
   "metadata": {},
   "outputs": [],
   "source": [
    "rep = Show(trivialproducer)\n",
    "ColorBy(rep, (\"POINTS\", \"scalarA\"))\n",
    "rep.Representation= \"Surface\""
   ]
  },
  {
   "cell_type": "code",
   "execution_count": null,
   "metadata": {},
   "outputs": [],
   "source": [
    "from ipyparaview.widgets import PVDisplay\n",
    "disp = PVDisplay(GetActiveView())\n",
    "w = display(disp)"
   ]
  }
 ],
 "metadata": {
  "kernelspec": {
   "display_name": "Python 3",
   "language": "python",
   "name": "python3"
  },
  "language_info": {
   "codemirror_mode": {
    "name": "ipython",
    "version": 3
   },
   "file_extension": ".py",
   "mimetype": "text/x-python",
   "name": "python",
   "nbconvert_exporter": "python",
   "pygments_lexer": "ipython3",
   "version": "3.8.2"
  }
 },
 "nbformat": 4,
 "nbformat_minor": 4
}
